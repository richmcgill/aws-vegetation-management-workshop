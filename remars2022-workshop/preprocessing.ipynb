{
 "cells": [
  {
   "cell_type": "markdown",
   "id": "86438a90",
   "metadata": {},
   "source": [
    "# Preprocessing satellite images\n",
    "\n",
    "In this notebook, we will show how to utilize both SpaceNet satellite image and preprocess using white balancing and converting data to 8-bit (0-255)"
   ]
  },
  {
   "cell_type": "markdown",
   "id": "f2421ba1",
   "metadata": {},
   "source": [
    "## Setup\n",
    "\n",
    "Before proceeding, make sure this notebook connects with the proper kernel (`conda_[name]`, `[name]` is name of the new Conda environment you just created)."
   ]
  },
  {
   "cell_type": "code",
   "execution_count": null,
   "id": "c1911e67",
   "metadata": {},
   "outputs": [],
   "source": [
    "import os, skimage\n",
    "import numpy as np\n",
    "from skimage import img_as_ubyte\n",
    "\n",
    "import warnings\n",
    "warnings.filterwarnings(\"ignore\", category=FutureWarning)"
   ]
  },
  {
   "cell_type": "markdown",
   "id": "c4c7b7e0",
   "metadata": {},
   "source": [
    "### Plotting preferences"
   ]
  },
  {
   "cell_type": "code",
   "execution_count": null,
   "id": "4d3be6b2",
   "metadata": {},
   "outputs": [],
   "source": [
    "%matplotlib inline\n",
    "%config InlineBackend.figure_format = 'retina'\n",
    "\n",
    "import matplotlib.pyplot as plt\n",
    "plt.style.use('seaborn-notebook')"
   ]
  },
  {
   "cell_type": "markdown",
   "id": "14877677",
   "metadata": {},
   "source": [
    "The datasets used in this notebook are saved in directory `./data/raw_data/`.\n",
    "\n",
    "1. **SpaceNet satellite images**:\n",
    "There are tiles (\"chips\") of 200m$\\times$200m satellite images/labels in this training dataset (`SN2/AOI_2_Vegas`). See [link](https://spacenet.ai/las-vegas/) for more information. We extract the ~0.3m resolution pan-sharpened RGB (`PS-RGB`) 3-channel satellite images and perform white balancing and convert the data to 8-bit. "
   ]
  },
  {
   "cell_type": "code",
   "execution_count": null,
   "id": "f60f2a54",
   "metadata": {},
   "outputs": [],
   "source": [
    "# Paths \n",
    "data_dir = './data/raw_data/'\n",
    "\n",
    "# Prefix of all filename - naming convention\n",
    "prefix = 'RGB-PanSharpen_AOI_2_Vegas_'"
   ]
  },
  {
   "cell_type": "code",
   "execution_count": null,
   "id": "fca89ded",
   "metadata": {},
   "outputs": [],
   "source": [
    "# Function to whitebalance data and convert data to 8 bit\n",
    "def percentile_whitebalance(image, percentile_value=99):\n",
    "    whitebalanced = img_as_ubyte(\n",
    "            (image*1.0 / np.percentile(image, \n",
    "             percentile_value, axis=(0, 1))).clip(0, 1))\n",
    "    return whitebalanced\n"
   ]
  },
  {
   "cell_type": "code",
   "execution_count": null,
   "id": "4c75d2e9",
   "metadata": {},
   "outputs": [],
   "source": [
    "# Scaling values of images between [0,1]\n",
    "def scale_values(image,clip_min=0, clip_max=1):\n",
    "    min_value = image.min()\n",
    "    max_value = image.max()\n",
    "    scaled_image = ((image - min_value)/(max_value - min_value))*(clip_max - clip_min) + clip_min \n",
    "    return scaled_image"
   ]
  },
  {
   "cell_type": "code",
   "execution_count": null,
   "id": "430a0ca6",
   "metadata": {},
   "outputs": [],
   "source": [
    "# Show a sample data\n",
    "sample = 'img1423' # chip ID, img? format\n",
    "\n",
    "# Read in 4-channel image from GeoTIFF.\n",
    "img_file = prefix + sample + '.tif'\n",
    "img_path = os.path.join(data_dir, img_file)\n",
    "img = skimage.io.imread(img_path)\n",
    "# rgb = img[..., :3]\n",
    "# # elev = img[..., -1]\n",
    "white_bal_img = percentile_whitebalance(img)\n",
    "\n",
    "# Display satellite image and LiDAR eleveation attribute.\n",
    "fig, ax = plt.subplots(1, 2, figsize=(15, 5))\n",
    "ax[0].imshow(scale_values(img))\n",
    "ax[0].set_title('Pan-sharpened 3-band RGB')\n",
    "ax[1].imshow(white_bal_img)\n",
    "ax[1].set_title('White balanced image')\n",
    "fig.show()"
   ]
  },
  {
   "cell_type": "markdown",
   "id": "805dc6a9",
   "metadata": {},
   "source": [
    "The output from white balancing are combined with the LiDAR data and used in the vegetation-management-remars2022/remars2022-workshop/machine_learning_for_trees_identification.ipynb"
   ]
  }
 ],
 "metadata": {
  "kernelspec": {
   "display_name": "conda_tutorial_env",
   "language": "python",
   "name": "conda_tutorial_env"
  },
  "language_info": {
   "codemirror_mode": {
    "name": "ipython",
    "version": 3
   },
   "file_extension": ".py",
   "mimetype": "text/x-python",
   "name": "python",
   "nbconvert_exporter": "python",
   "pygments_lexer": "ipython3",
   "version": "3.8.13"
  }
 },
 "nbformat": 4,
 "nbformat_minor": 5
}
